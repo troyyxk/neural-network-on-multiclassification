{
 "cells": [
  {
   "cell_type": "code",
   "execution_count": 67,
   "metadata": {
    "scrolled": false
   },
   "outputs": [
    {
     "name": "stdout",
     "output_type": "stream",
     "text": [
      "Enter main.\n"
     ]
    },
    {
     "name": "stderr",
     "output_type": "stream",
     "text": [
      "/usr/lib/python3/dist-packages/ipykernel_launcher.py:101: UserWarning: Using a target size (torch.Size([10])) that is different to the input size (torch.Size([1, 10])). This will likely lead to incorrect results due to broadcasting. Please ensure they have the same size.\n"
     ]
    },
    {
     "name": "stdout",
     "output_type": "stream",
     "text": [
      "0.08885714285714286\n",
      "0.12375\n"
     ]
    }
   ],
   "source": [
    "'''\n",
    "Question 3.2.1 Pytorch Code\n",
    "\n",
    "Use Pytorch to buid a neural network.\n",
    "'''\n",
    "\n",
    "import data\n",
    "import numpy as np\n",
    "# Import pyplot - plt.imshow is useful!\n",
    "import matplotlib.pyplot as plt\n",
    "from sklearn.model_selection import KFold\n",
    "import torch\n",
    "import torch.nn as nn\n",
    "import torch.nn.functional as F\n",
    "import torch.optim as optim\n",
    "import matplotlib.pyplot as plt\n",
    "\n",
    "class Net(nn.Module):\n",
    "\n",
    "    def __init__(self):\n",
    "        super(Net, self).__init__()\n",
    "        self.fc1 = nn.Linear(64, 64)\n",
    "        self.fc2 = nn.Linear(64, 16)\n",
    "        self.fc3 = nn.Linear(16, 16)\n",
    "        self.fc4 = nn.Linear(16, 16)\n",
    "        self.fc5 = nn.Linear(16, 16)\n",
    "\n",
    "        self.fc6 = nn.Linear(16, 10)\n",
    "\n",
    "        self.hidden = nn.Linear(784, 256)\n",
    "\n",
    "    def forward(self, x):\n",
    "        x= torch.relu(self.fc1(x))\n",
    "        x= torch.relu(self.fc2(x))\n",
    "        x= torch.relu(self.fc3(x))\n",
    "        x= torch.relu(self.fc4(x))\n",
    "        x= torch.relu(self.fc5(x))\n",
    "\n",
    "        x= self.fc6(x)\n",
    "        \n",
    "        return F.softmax(x, dim=1)\n",
    "\n",
    "\n",
    "def classification_accuracy(knn, k, eval_data, eval_labels):\n",
    "    '''\n",
    "    Evaluate the classification accuracy of knn on the given 'eval_data'\n",
    "    using the labels\n",
    "    '''\n",
    "    score = 0\n",
    "    amount = len(eval_data)\n",
    "    for i in range(amount):\n",
    "        if(eval_labels[i] == knn.query_knn(eval_data[i], k)):\n",
    "            score += 1\n",
    "    return score / amount\n",
    "\n",
    "\n",
    "def labels_to_one_hot(labels):\n",
    "    tensors = []\n",
    "    for lbl in labels:\n",
    "        a = [0.]*10\n",
    "        a[int(lbl)] = 1.\n",
    "        tensors.append(a)\n",
    "    return torch.tensor(tensors)\n",
    "\n",
    "def classification_accuracy(net, test_data_tensor, test_labels):\n",
    "    '''\n",
    "    Evaluate the classification accuracy of knn on the given 'eval_data'\n",
    "    using the labels\n",
    "    '''\n",
    "    score = 0\n",
    "    amount = len(test_labels)\n",
    "    for i in range(amount):\n",
    "        output = net(test_data_tensor[i].view(-1, 64).float())\n",
    "        for idx, i in enumerate(output):\n",
    "            if torch.argmax(i) == test_labels[idx]:\n",
    "                score += 1\n",
    "    return score / amount\n",
    "\n",
    "\n",
    "def main():\n",
    "    print(\"Enter main.\")\n",
    "    train_data, train_labels, test_data, test_labels = data.load_all_data('data')\n",
    "\n",
    "    # convert to tensor\n",
    "    train_data_tensor = torch.from_numpy(train_data)\n",
    "    train_labels_tensor = labels_to_one_hot(train_labels)\n",
    "    test_data_tensor = torch.from_numpy(test_data)\n",
    "\n",
    "    net = Net()\n",
    "    net = net.float()\n",
    "    optimizer = optim.Adam(net.parameters(), lr = 0.01)\n",
    "#     optimizer.zero_grad()\n",
    "\n",
    "#     criterion = nn.CrossEntropyLoss()\n",
    "\n",
    "    # train 3 times\n",
    "    for _ in range(3):\n",
    "        for i in range(len(train_data_tensor)):\n",
    "            net.zero_grad()\n",
    "            output = net(train_data_tensor[i].view(-1, 64).float())\n",
    "            loss = F.mse_loss(output, train_labels_tensor[i])\n",
    "#             print(output)\n",
    "#             print(train_labels_tensor[i])\n",
    "#             loss = criterion(output, train_labels_tensor[i])\n",
    "\n",
    "            loss.backward()\n",
    "            optimizer.step()\n",
    "\n",
    "    print(classification_accuracy(net, train_data_tensor, train_labels))\n",
    "    print(classification_accuracy(net, test_data_tensor, test_labels))\n",
    "            \n",
    "    \n",
    "            \n",
    "            \n",
    "# #     print(train_data_tensor.float())\n",
    "#     outputs = net(train_data_tensor.float())\n",
    "#     print(outputs)\n",
    "#     loss = F.mse_loss(outputs, train_labels_tensor)\n",
    "#     loss.backward()\n",
    "#     optimizer.step()\n",
    "    \n",
    "    \n",
    "\n",
    "\n",
    "if __name__ == '__main__':\n",
    "    main()"
   ]
  },
  {
   "cell_type": "code",
   "execution_count": 39,
   "metadata": {},
   "outputs": [
    {
     "name": "stdout",
     "output_type": "stream",
     "text": [
      "[0, 0, 0, 0, 0, 0, 0, 0, 0, 0]\n",
      "tensor([0, 0, 0, 0, 0, 0, 0, 0, 0, 0])\n"
     ]
    }
   ],
   "source": [
    "a= [0]*10\n",
    "print(a)\n",
    "a = torch.tensor(a)\n",
    "print(a)"
   ]
  },
  {
   "cell_type": "code",
   "execution_count": 3,
   "metadata": {},
   "outputs": [
    {
     "name": "stdout",
     "output_type": "stream",
     "text": [
      "1\n"
     ]
    }
   ],
   "source": [
    "print(1)"
   ]
  },
  {
   "cell_type": "code",
   "execution_count": 19,
   "metadata": {},
   "outputs": [
    {
     "name": "stdout",
     "output_type": "stream",
     "text": [
      "tensor(0.5300)\n"
     ]
    }
   ],
   "source": [
    "a = torch.tensor([[0.1, 0.9], [0.5, 0.5]])\n",
    "b = torch.tensor([[1, 0], [1, 0]])\n",
    "print((F.mse_loss(a,b)))"
   ]
  },
  {
   "cell_type": "code",
   "execution_count": null,
   "metadata": {},
   "outputs": [],
   "source": []
  }
 ],
 "metadata": {
  "kernelspec": {
   "display_name": "Python 3",
   "language": "python",
   "name": "python3"
  },
  "language_info": {
   "codemirror_mode": {
    "name": "ipython",
    "version": 3
   },
   "file_extension": ".py",
   "mimetype": "text/x-python",
   "name": "python",
   "nbconvert_exporter": "python",
   "pygments_lexer": "ipython3",
   "version": "3.6.9"
  }
 },
 "nbformat": 4,
 "nbformat_minor": 2
}
