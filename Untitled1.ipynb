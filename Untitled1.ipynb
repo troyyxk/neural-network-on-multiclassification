{
 "cells": [
  {
   "cell_type": "code",
   "execution_count": 3,
   "metadata": {},
   "outputs": [
    {
     "data": {
      "image/png": "[encoded data removed]",
      "text/plain": [
       "<Figure size 432x288 with 1 Axes>"
      ]
     },
     "metadata": {},
     "output_type": "display_data"
    }
   ],
   "source": [
    "'''\n",
    "Question 3.0 Skeleton Code\n",
    "\n",
    "Here you should load the data and plot\n",
    "the means for each of the digit classes.\n",
    "'''\n",
    "\n",
    "import data\n",
    "import numpy as np\n",
    "# Import pyplot - plt.imshow is useful!\n",
    "import matplotlib.pyplot as plt\n",
    "\n",
    "def matrix_mean(matrices):\n",
    "    a = []\n",
    "    num_matrix = matrices.shape[0]\n",
    "    num_pixels = matrices.shape[1]\n",
    "    for i in range(num_pixels):\n",
    "        sum = 0\n",
    "        for j in range(num_matrix):\n",
    "            sum += matrices[j][i]\n",
    "        a.append(sum/num_matrix)\n",
    "    return np.array(a)\n",
    "\n",
    "\n",
    "def reshape_image(img):\n",
    "    a = []\n",
    "    start_mark = 0\n",
    "    end_mark = 8\n",
    "    while(end_mark <= img.shape[0]):\n",
    "        row = []\n",
    "        for i in range(start_mark, end_mark):\n",
    "            row.append(img[i])\n",
    "        start_mark += 8\n",
    "        end_mark += 8\n",
    "        a.append(row)\n",
    "        row = []\n",
    "    return np.array(a)\n",
    "\n",
    "\n",
    "\n",
    "def plot_means(train_data, train_labels):\n",
    "    means = []\n",
    "    for i in range(0, 10):\n",
    "        i_digits = data.get_digits_by_label(train_data, train_labels, i)\n",
    "        # Compute mean of class i\n",
    "        img_array = matrix_mean(i_digits)\n",
    "        img_matrix = reshape_image(img_array)\n",
    "        means.append(img_matrix)\n",
    "        \n",
    "\n",
    "    # Plot all means on same axis\n",
    "    all_concat = np.concatenate(means, 1)\n",
    "    plt.imshow(all_concat, cmap='gray')\n",
    "    plt.show()\n",
    "\n",
    "if __name__ == '__main__':\n",
    "    train_data, train_labels, _, _ = data.load_all_data_from_zip('a3digits.zip', 'data')\n",
    "    plot_means(train_data, train_labels)\n"
   ]
  },
  {
   "cell_type": "code",
   "execution_count": null,
   "metadata": {},
   "outputs": [],
   "source": []
  }
 ],
 "metadata": {
  "kernelspec": {
   "display_name": "Python 3",
   "language": "python",
   "name": "python3"
  },
  "language_info": {
   "codemirror_mode": {
    "name": "ipython",
    "version": 3
   },
   "file_extension": ".py",
   "mimetype": "text/x-python",
   "name": "python",
   "nbconvert_exporter": "python",
   "pygments_lexer": "ipython3",
   "version": "3.6.9"
  }
 },
 "nbformat": 4,
 "nbformat_minor": 2
}
